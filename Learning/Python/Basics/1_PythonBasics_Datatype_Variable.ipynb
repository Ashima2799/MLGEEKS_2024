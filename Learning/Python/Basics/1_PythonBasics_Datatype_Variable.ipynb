{
 "cells": [
  {
   "cell_type": "markdown",
   "id": "19d4e9dc-270f-4a84-8a0a-54c5ea4495c4",
   "metadata": {},
   "source": [
    "## Python basics 1\n",
    "Topics:\n",
    "==============\n",
    "- Hello world\n",
    "- Variables\n",
    "- Datatypes Introduction\n",
    "- Operations on numerical data types \n",
    "\n",
    "Please note this is not a comprehensive list of the additional topics and examples around the main topics. The focus is to provide some guidance on high level features and we deal with specific usage and examples as we cross the bridge. es and objects"
   ]
  },
  {
   "cell_type": "markdown",
   "id": "b13ab80a-6d12-45ed-a566-69fca3e13f0e",
   "metadata": {},
   "source": [
    "## Print your \"hello world\" "
   ]
  },
  {
   "cell_type": "code",
   "execution_count": 5,
   "id": "d962dc3b-b831-4533-b8d4-29c78fe02244",
   "metadata": {},
   "outputs": [
    {
     "name": "stdout",
     "output_type": "stream",
     "text": [
      "Hello World\n"
     ]
    }
   ],
   "source": [
    "print(\"Hello World !\")"
   ]
  },
  {
   "cell_type": "code",
   "execution_count": null,
   "id": "360377ce-d593-4595-877b-728c101bc75c",
   "metadata": {},
   "outputs": [],
   "source": []
  },
  {
   "cell_type": "markdown",
   "id": "f27b547f-d188-4503-ad96-a6c757ac2b18",
   "metadata": {},
   "source": [
    "## What is a Variable? \n",
    "Variables in Python are named containers that store data. <br>They act like little boxes where you can assign values and refer to them later in your code. <br>Think of them as nicknames you give to pieces of information you'll use throughout your program."
   ]
  },
  {
   "cell_type": "code",
   "execution_count": 5,
   "id": "e5e19a50-eb39-46be-986e-919a4a97d756",
   "metadata": {},
   "outputs": [
    {
     "name": "stdout",
     "output_type": "stream",
     "text": [
      "Alice\n",
      "30\n"
     ]
    }
   ],
   "source": [
    "name = \"Alice\"\n",
    "age = 30\n",
    "\n",
    "print(name)  \n",
    "print(age) \n",
    "\n",
    "#name: Stores the string \"Alice\".\n",
    "#age: Stores the integer 30."
   ]
  },
  {
   "cell_type": "markdown",
   "id": "ca8824dd-cd31-4818-a838-4ecb3367cbe3",
   "metadata": {},
   "source": []
  },
  {
   "cell_type": "code",
   "execution_count": 8,
   "id": "b2fb5e73-b10e-476d-92c5-778de1873a56",
   "metadata": {},
   "outputs": [],
   "source": []
  },
  {
   "cell_type": "markdown",
   "id": "7214f302-2c86-4ea4-ad52-a365e8af7649",
   "metadata": {},
   "source": [
    "## Data Types in python\n",
    "The main data types in Python are:\n",
    "\n",
    "1. **Numeric Types**:\n",
    "   - `int`: Integers (whole numbers)\n",
    "   - `float`: Floating-point numbers\n",
    "   - `complex`: Complex numbers\n",
    "\n",
    "2. **Sequence Types**:\n",
    "   - `str`: Strings (text)\n",
    "   - `list`: Ordered collections of items\n",
    "   - `tuple`: Immutable ordered collections of items\n",
    "   - `range`: Sequence of numbers\n",
    "\n",
    "3. **Mapping Type**:\n",
    "   - `dict`: Unordered key-value pairs\n",
    "\n",
    "4. **Set Types**:\n",
    "   - `set`: Unordered collection of unique items\n",
    "   - `frozenset`: Immutable set\n",
    "\n",
    "5. **Boolean Type**:\n",
    "   - `bool`: Represents True or False\n",
    "\n",
    "6. **Binary Types**:\n",
    "   - `bytes`: Immutable sequences of single bytes\n",
    "   - `bytearray`: Mutable sequences of single bytes\n",
    "   - `memoryview`: Provides a view into an object's memory\n",
    "\n",
    "7. **None Type**:\n",
    "   - `NoneType`: Represents the absence of a value"
   ]
  },
  {
   "cell_type": "markdown",
   "id": "892c8132-0d84-4077-98f7-5c79c02de351",
   "metadata": {},
   "source": [
    "### Here are some examples of different data types:"
   ]
  },
  {
   "cell_type": "code",
   "execution_count": 14,
   "id": "304f8be8-fefc-4e05-b811-d19f9a1927ce",
   "metadata": {},
   "outputs": [],
   "source": [
    "#python\n",
    "x = 5       # int\n",
    "y = 3.14    # float\n",
    "z = 1j      # complex\n",
    "a = \"hello\" # str\n",
    "b = [1, 2, 3] # list\n",
    "c = (1, 2, 3) # tuple\n",
    "d = {\"name\": \"John\", \"age\": 30} # dict\n",
    "e = True    # bool\n",
    "f = b\"hello\" # bytes\n",
    "g = bytearray(5) # bytearray\n",
    "h = None    # NoneType ```"
   ]
  },
  {
   "cell_type": "markdown",
   "id": "f272742f-9870-452a-8075-923c7afec86c",
   "metadata": {},
   "source": []
  },
  {
   "cell_type": "markdown",
   "id": "5330b84a-a9eb-4d22-a65c-fcf69ced8ffb",
   "metadata": {},
   "source": [
    "#### Variables can store different data types, not just strings and integers. Here's another example:"
   ]
  },
  {
   "cell_type": "code",
   "execution_count": null,
   "id": "aea872f4-94de-4e24-8b4e-3c3973039d46",
   "metadata": {},
   "outputs": [],
   "source": [
    "is_sunny = True  \n",
    "pi = 3.14159 "
   ]
  },
  {
   "cell_type": "markdown",
   "id": "64b262f1-1209-48db-a3c3-9f5594f25739",
   "metadata": {},
   "source": [
    "#### The <font color=\"green\">type()</font>  function can be used to determine the data type of a variable or object in Python. "
   ]
  },
  {
   "cell_type": "markdown",
   "id": "35c671a5-c2be-4d59-9f7a-370f27a2cb93",
   "metadata": {},
   "source": [
    "#### What is the data type for <font color=\"green\"> is_sunny, pi  </font> in above example ?"
   ]
  },
  {
   "cell_type": "code",
   "execution_count": 26,
   "id": "ab397a99-ba8a-4242-b299-fc02031c54dd",
   "metadata": {},
   "outputs": [],
   "source": [
    "#### Enter your answer here ####"
   ]
  },
  {
   "cell_type": "code",
   "execution_count": null,
   "id": "337fd214-06d6-4044-b64a-a3ddd615e17b",
   "metadata": {},
   "outputs": [],
   "source": []
  },
  {
   "cell_type": "markdown",
   "id": "d5dfd5cf-b5ce-4f97-8553-5114aa7276df",
   "metadata": {},
   "source": [
    "### The main operations that can be performed on <font color=\"green\"> numeric</font>  data types in Python are:"
   ]
  },
  {
   "cell_type": "markdown",
   "id": "254560f7-ed47-4410-b30c-c62d46df56c3",
   "metadata": {},
   "source": [
    "**Arithmetic Operations**\r\n",
    "\r\n",
    "- Addition (`+`): `x + y`\r\n",
    "- Subtraction (`-`): `x - y`\r\n",
    "- Multiplication (`*`): `x * y`\r\n",
    "- Division (`/`): `x / y`\r\n",
    "- Floor Division (`//`): `x // y`\r\n",
    "- Modulus (`%`): `x % y`\r\n",
    "- Exponentiation (`**`): `x ** y`"
   ]
  },
  {
   "cell_type": "markdown",
   "id": "5bf69bc6-10ba-42af-89ab-37b9fee1af89",
   "metadata": {},
   "source": [
    "#### Examples\n",
    "\n",
    "#### Addition (+)\n",
    "\n",
    "```python\n",
    "x = 5\n",
    "y = 3\n",
    "print(x + y)  # Output: 8\n",
    "```\n",
    "\n",
    "#### Subtraction (-)\n",
    "\n",
    "```python\n",
    "x = 10\n",
    "y = 4\n",
    "print(x - y)  # Output: 6\n",
    "```\n",
    "\n",
    "#### Multiplication (*)\n",
    "\n",
    "```python\n",
    "x = 3\n",
    "y = 4\n",
    "print(x * y)  # Output: 12\n",
    "```\n",
    "\n",
    "#### Division (/)\n",
    "\n",
    "```python\n",
    "x = 10\n",
    "y = 3\n",
    "print(x / y)  # Output: 3.3333333333333335\n",
    "```\n",
    "\n",
    "#### Floor Division (//)\n",
    "\n",
    "```python\n",
    "x = 10\n",
    "y = 3\n",
    "print(x // y)  # Output: 3\n",
    "```\n",
    "\n",
    "#### Modulus (%)\n",
    "\n",
    "```python\n",
    "x = 10\n",
    "y = 3\n",
    "print(x % y)  # Output: 1\n",
    "```\n",
    "\n",
    "#### Exponentiation (**)\n",
    "\n",
    "```python\n",
    "x = 2\n",
    "y = 3\n",
    "print(x ** y)  # Output: 8\n",
    "```"
   ]
  },
  {
   "cell_type": "code",
   "execution_count": null,
   "id": "f1a4f2f4-7916-4133-9dc0-52004f92052d",
   "metadata": {},
   "outputs": [],
   "source": []
  },
  {
   "cell_type": "markdown",
   "id": "7f10e351-2b77-4545-b8c2-a568a4ae5e31",
   "metadata": {},
   "source": [
    "**Comparison Operations**\n",
    "- Equal to (`==`): `x == y`\n",
    "- Not equal to (`!=`): `x != y`\n",
    "- Greater than (`>`): `x > y`\n",
    "- Less than (`<`): `x < y`\n",
    "- Greater than or equal to (`>=`): `x >= y`\n",
    "- Less than or equal to (`<=`): `x <= y`"
   ]
  },
  {
   "cell_type": "markdown",
   "id": "8d5247e1-ec69-4c84-8a2b-544278e8d855",
   "metadata": {},
   "source": [
    "#### Equal to (==)\n",
    "\n",
    "```python\n",
    "x = 5\n",
    "y = 5\n",
    "print(x == y)  # Output: True\n",
    "```\n",
    "\n",
    "#### Not equal to (!=)\n",
    "\n",
    "```python\n",
    "x = 5\n",
    "y = 10\n",
    "print(x != y)  # Output: True\n",
    "```\n",
    "\n",
    "#### Greater than (>)\n",
    "\n",
    "```python\n",
    "x = 10\n",
    "y = 5\n",
    "print(x > y)  # Output: True\n",
    "```\n",
    "\n",
    "#### Less than (<)\n",
    "\n",
    "```python\n",
    "x = 5\n",
    "y = 10\n",
    "print(x < y)  # Output: True\n",
    "```\n",
    "\n",
    "#### Greater than or equal to (>=)\n",
    "\n",
    "```python\n",
    "x = 10\n",
    "y = 10\n",
    "print(x >= y)  # Output: True\n",
    "```\n",
    "\n",
    "#### Less than or equal to (<=)\n",
    "\n",
    "```python\n",
    "x = 5\n",
    "y = 10\n",
    "print(x <= y)  # Output: True\n",
    "```"
   ]
  },
  {
   "cell_type": "code",
   "execution_count": null,
   "id": "9c34c996-3908-4462-a2dc-f29ed0498472",
   "metadata": {},
   "outputs": [],
   "source": []
  },
  {
   "cell_type": "code",
   "execution_count": null,
   "id": "9008a441-d255-4481-be85-feb50aafb596",
   "metadata": {},
   "outputs": [],
   "source": []
  },
  {
   "cell_type": "code",
   "execution_count": null,
   "id": "79be9d9c-5948-42d8-8969-0e80f0bb355f",
   "metadata": {},
   "outputs": [],
   "source": []
  }
 ],
 "metadata": {
  "kernelspec": {
   "display_name": "Python 3 (ipykernel)",
   "language": "python",
   "name": "python3"
  },
  "language_info": {
   "codemirror_mode": {
    "name": "ipython",
    "version": 3
   },
   "file_extension": ".py",
   "mimetype": "text/x-python",
   "name": "python",
   "nbconvert_exporter": "python",
   "pygments_lexer": "ipython3",
   "version": "3.12.4"
  }
 },
 "nbformat": 4,
 "nbformat_minor": 5
}
