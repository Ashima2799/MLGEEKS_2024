{
 "cells": [
  {
   "cell_type": "markdown",
   "id": "19d4e9dc-270f-4a84-8a0a-54c5ea4495c4",
   "metadata": {},
   "source": [
    "## Python basics 2\n",
    "Topics:\n",
    "==============\n",
    "- Strings\n",
    "\n",
    "\n",
    "Please note this is not a comprehensive list of the additional topics and examples around the main topics. The focus is to provide some guidance on high level features and we deal with specific usage and examples as we cross the bridge. es and objects"
   ]
  },
  {
   "cell_type": "markdown",
   "id": "b13ab80a-6d12-45ed-a566-69fca3e13f0e",
   "metadata": {},
   "source": [
    "## Print your \"hello world\" "
   ]
  },
  {
   "cell_type": "code",
   "execution_count": 5,
   "id": "d962dc3b-b831-4533-b8d4-29c78fe02244",
   "metadata": {},
   "outputs": [
    {
     "name": "stdout",
     "output_type": "stream",
     "text": [
      "Hello World\n"
     ]
    }
   ],
   "source": [
    "print(\"Hello World !\")"
   ]
  },
  {
   "cell_type": "code",
   "execution_count": null,
   "id": "360377ce-d593-4595-877b-728c101bc75c",
   "metadata": {},
   "outputs": [],
   "source": []
  },
  {
   "cell_type": "markdown",
   "id": "ca8824dd-cd31-4818-a838-4ecb3367cbe3",
   "metadata": {},
   "source": []
  },
  {
   "cell_type": "code",
   "execution_count": 8,
   "id": "b2fb5e73-b10e-476d-92c5-778de1873a56",
   "metadata": {},
   "outputs": [],
   "source": []
  },
  {
   "cell_type": "code",
   "execution_count": null,
   "id": "9c34c996-3908-4462-a2dc-f29ed0498472",
   "metadata": {},
   "outputs": [],
   "source": []
  },
  {
   "cell_type": "code",
   "execution_count": null,
   "id": "9008a441-d255-4481-be85-feb50aafb596",
   "metadata": {},
   "outputs": [],
   "source": []
  },
  {
   "cell_type": "code",
   "execution_count": null,
   "id": "79be9d9c-5948-42d8-8969-0e80f0bb355f",
   "metadata": {},
   "outputs": [],
   "source": []
  }
 ],
 "metadata": {
  "kernelspec": {
   "display_name": "Python 3 (ipykernel)",
   "language": "python",
   "name": "python3"
  },
  "language_info": {
   "codemirror_mode": {
    "name": "ipython",
    "version": 3
   },
   "file_extension": ".py",
   "mimetype": "text/x-python",
   "name": "python",
   "nbconvert_exporter": "python",
   "pygments_lexer": "ipython3",
   "version": "3.12.4"
  }
 },
 "nbformat": 4,
 "nbformat_minor": 5
}
